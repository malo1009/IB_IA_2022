{
  "nbformat": 4,
  "nbformat_minor": 0,
  "metadata": {
    "colab": {
      "provenance": []
    },
    "kernelspec": {
      "name": "python3",
      "display_name": "Python 3"
    },
    "language_info": {
      "name": "python"
    }
  },
  "cells": [
    {
      "cell_type": "markdown",
      "source": [
        "### ***A2: PYHTON EXERCISES***\n",
        "\n",
        "**NAME:** Marina Fernanda López González\n",
        "\n",
        "**ID:** 1895594\n",
        "\n",
        "**CLASS:** Thrusday N4 - N6"
      ],
      "metadata": {
        "id": "HKF_NRMEpP9x"
      }
    },
    {
      "cell_type": "markdown",
      "source": [
        "1. Create a python script where the user is going to be asked for the name. After that, the program will greet the user with the given name. Only exception: the script will not greet the user if the given name is \"Ana\", \"John\" or \"Peter\"."
      ],
      "metadata": {
        "id": "NzVhNeYxpYPL"
      }
    },
    {
      "cell_type": "code",
      "execution_count": 24,
      "metadata": {
        "colab": {
          "base_uri": "https://localhost:8080/"
        },
        "id": "_UxN01ZkpA2q",
        "outputId": "47ad5859-c4fe-4b51-9b7a-69f6e9948a03"
      },
      "outputs": [
        {
          "output_type": "stream",
          "name": "stdout",
          "text": [
            "Please put your name: Marina\n",
            "Hi Marina ! we are glad to talk to you back.\n"
          ]
        }
      ],
      "source": [
        "msg = input(\"Please put your name: \")\n",
        "if msg == \"Ana\":\n",
        "   print(\"We are sorry, we cannot greet you\") \n",
        "elif msg == \"John\":\n",
        "   print(\"We are sorry, we cannot greet you\") \n",
        "elif msg == \"Peter\":\n",
        "   print(\"We are sorry, we cannot greet you\") \n",
        "else: \n",
        "   print(\"Hi\", msg, \"! we are glad to talk to you back.\")\n"
      ]
    },
    {
      "cell_type": "markdown",
      "source": [
        "2. Create a function in a pyhton script that returns (print) the last element of a given list, reverts the order of the list and finally returns (print) the reverted list. "
      ],
      "metadata": {
        "id": "AyLV_tFIqp2x"
      }
    },
    {
      "cell_type": "code",
      "source": [
        "OGList = [\"Bicicle\", \"Helmet\", \"Gloves\", \"Lights\"]\n",
        "NewList = OGList[::-1]\n",
        "print(\"The last element of the list is\", OGList[-1], \"in this case.\")\n",
        "print(\"And the final reverted list looks like this:\", NewList)"
      ],
      "metadata": {
        "colab": {
          "base_uri": "https://localhost:8080/"
        },
        "id": "Er3X1QRXqtNI",
        "outputId": "3ebc6408-ffe4-4210-f355-18f2261f0504"
      },
      "execution_count": 18,
      "outputs": [
        {
          "output_type": "stream",
          "name": "stdout",
          "text": [
            "The last element of the list is Lights in this case.\n",
            "And the final reverted list looks like this: ['Lights', 'Gloves', 'Helmet', 'Bicicle']\n"
          ]
        }
      ]
    },
    {
      "cell_type": "markdown",
      "source": [
        "3. Create a function in a python script that takes a list of strings as input and then it prints, line by line, the whole list in a rectangular shape."
      ],
      "metadata": {
        "id": "M4blQ6DfrafS"
      }
    },
    {
      "cell_type": "code",
      "source": [
        "List = [\"Hi!\", \"I'm\", \"called\", \"Marina\", \"López,\", \"thank\", \"you\"]\n",
        "\n",
        "def frame(words):\n",
        "    size = len(max(words, key=len))\n",
        "    print('*' * (size + 4))\n",
        "    for word in words:\n",
        "        print('* {a:<{b}} *'.format(a=word, b=size))\n",
        "    print('*' * (size + 4))\n",
        "\n",
        "frame(List)"
      ],
      "metadata": {
        "colab": {
          "base_uri": "https://localhost:8080/"
        },
        "id": "0IQRUQ4trc3W",
        "outputId": "3330d416-d210-400d-d67d-0620631dd7b9"
      },
      "execution_count": 22,
      "outputs": [
        {
          "output_type": "stream",
          "name": "stdout",
          "text": [
            "**********\n",
            "* Hi!    *\n",
            "* I'm    *\n",
            "* called *\n",
            "* Marina *\n",
            "* López, *\n",
            "* thank  *\n",
            "* you    *\n",
            "**********\n"
          ]
        }
      ]
    }
  ]
}