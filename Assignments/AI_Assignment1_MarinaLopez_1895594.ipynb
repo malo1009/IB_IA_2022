{
  "nbformat": 4,
  "nbformat_minor": 0,
  "metadata": {
    "colab": {
      "provenance": []
    },
    "kernelspec": {
      "name": "python3",
      "display_name": "Python 3"
    },
    "language_info": {
      "name": "python"
    }
  },
  "cells": [
    {
      "cell_type": "markdown",
      "source": [
        "### ***A2: PYHTON EXERCIES***\n",
        "\n",
        "**NAME:** Marina Fernanda López González\n",
        "\n",
        "**ID:** 1895594\n",
        "\n",
        "**CLASS:** Thrusday N4"
      ],
      "metadata": {
        "id": "HKF_NRMEpP9x"
      }
    },
    {
      "cell_type": "markdown",
      "source": [
        "1. Create a python script where the user is going to be asked for the name. After that, the program will greet the user with the given name. Only exception: the script will not greet the user if the given name is \"Ana\", \"John\" or \"Peter\"."
      ],
      "metadata": {
        "id": "NzVhNeYxpYPL"
      }
    },
    {
      "cell_type": "code",
      "execution_count": 7,
      "metadata": {
        "colab": {
          "base_uri": "https://localhost:8080/"
        },
        "id": "_UxN01ZkpA2q",
        "outputId": "b8bab072-ec7b-4b6b-cbc0-7492c46ad8c5"
      },
      "outputs": [
        {
          "output_type": "stream",
          "name": "stdout",
          "text": [
            "Please put your name: Marina\n",
            "Hi Marina ! we are glad to talk you back.\n"
          ]
        }
      ],
      "source": [
        "msg = input(\"Please put your name: \")\n",
        "if msg == \"Ana\":\n",
        "   print(\"We are sorry, we cannot greet you\") \n",
        "elif msg == \"John\":\n",
        "   print(\"We are sorry, we cannot greet you\") \n",
        "elif msg == \"Peter\":\n",
        "   print(\"We are sorry, we cannot greet you\") \n",
        "else: \n",
        "   print(\"Hi\", msg ,\"! we are glad to talk you back.\")\n"
      ]
    },
    {
      "cell_type": "markdown",
      "source": [
        "2. Create a function in a pyhton script that returns (print) the last element of a given list, reverts the order of the list and finally returns (print) the reverted list. "
      ],
      "metadata": {
        "id": "AyLV_tFIqp2x"
      }
    },
    {
      "cell_type": "code",
      "source": [
        "OGList = [\"Bicicle\", \"Helmet\", \"Gloves\", \"Lights\"]\n",
        "NewList = OGList[::-1]\n",
        "print(\"The last element of the list is\", OGList[-1], \"light in this case.\")\n",
        "print(\"And the final reverted list looks like this:\", NewList)"
      ],
      "metadata": {
        "colab": {
          "base_uri": "https://localhost:8080/"
        },
        "id": "Er3X1QRXqtNI",
        "outputId": "0020d54c-7a6d-48fc-bf9b-3c8ed7098c67"
      },
      "execution_count": 10,
      "outputs": [
        {
          "output_type": "stream",
          "name": "stdout",
          "text": [
            "The last element of the list is Lights light in this case.\n",
            "And the final reverted list looks like this: ['Lights', 'Gloves', 'Helmet', 'Bicicle']\n"
          ]
        }
      ]
    },
    {
      "cell_type": "markdown",
      "source": [
        "3. Create a function in a python script that takes a list of strings as input and then it prints, line by line, the whole list in a rectangular shape."
      ],
      "metadata": {
        "id": "M4blQ6DfrafS"
      }
    },
    {
      "cell_type": "code",
      "source": [
        "List = [\"Hi!\", \"my\", \"I'm\", \"called\", \"Marina\", \"López\", \"thank\", \"you\"]\n",
        "\n",
        "def frame(words):\n",
        "    size = len(max(words, key=len))\n",
        "    print('*' * (size + 4))\n",
        "    for word in words:\n",
        "        print('* {a:<{b}} *'.format(a=word, b=size))\n",
        "    print('*' * (size + 4))\n",
        "\n",
        "frame(List)"
      ],
      "metadata": {
        "colab": {
          "base_uri": "https://localhost:8080/"
        },
        "id": "0IQRUQ4trc3W",
        "outputId": "f1a76487-1f1f-4264-df37-35b2e70eb85a"
      },
      "execution_count": 16,
      "outputs": [
        {
          "output_type": "stream",
          "name": "stdout",
          "text": [
            "**********\n",
            "* Hi!    *\n",
            "* my     *\n",
            "* I'm    *\n",
            "* called *\n",
            "* Marina *\n",
            "* López  *\n",
            "* thank  *\n",
            "* you    *\n",
            "**********\n"
          ]
        }
      ]
    }
  ]
}